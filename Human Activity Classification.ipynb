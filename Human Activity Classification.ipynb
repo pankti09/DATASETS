{
 "cells": [
  {
   "cell_type": "markdown",
   "metadata": {},
   "source": [
    "## Let's get started"
   ]
  },
  {
   "cell_type": "code",
   "execution_count": 1,
   "metadata": {},
   "outputs": [],
   "source": [
    "import numpy as np\n",
    "import matplotlib.pyplot as plt\n",
    "from sklearn.model_selection import train_test_split as tts"
   ]
  },
  {
   "cell_type": "code",
   "execution_count": 2,
   "metadata": {},
   "outputs": [],
   "source": [
    "import os\n",
    "import cv2"
   ]
  },
  {
   "cell_type": "code",
   "execution_count": 3,
   "metadata": {},
   "outputs": [
    {
     "name": "stderr",
     "output_type": "stream",
     "text": [
      "Using TensorFlow backend.\n"
     ]
    }
   ],
   "source": [
    "from keras.models import Sequential\n",
    "from keras.layers.convolutional import Conv3D, MaxPooling3D\n",
    "from keras.layers.core import Dense, Flatten, Dropout"
   ]
  },
  {
   "cell_type": "code",
   "execution_count": 4,
   "metadata": {},
   "outputs": [],
   "source": [
    "PATH_TO_VIDEOS = '.\\\\KTH\\\\{0}\\\\'\n",
    "img_rows, img_cols, num_frames = 16, 16, 25"
   ]
  },
  {
   "cell_type": "code",
   "execution_count": 5,
   "metadata": {},
   "outputs": [],
   "source": [
    "training_videos = []"
   ]
  },
  {
   "cell_type": "markdown",
   "metadata": {},
   "source": [
    "### A Function to read all the videos into memory"
   ]
  },
  {
   "cell_type": "code",
   "execution_count": 6,
   "metadata": {},
   "outputs": [],
   "source": [
    "def append_videos(str_path):\n",
    "    videos = os.listdir(str_path)\n",
    "    print('Number of videos for {0}: {1}'.format(str_path, len(videos)))\n",
    "    \n",
    "    for video in videos:\n",
    "        video = str_path + video\n",
    "        frames = []\n",
    "        capture = cv2.VideoCapture(video)\n",
    "        # fps = capture.get(5)\n",
    "        \n",
    "        for frameCnt in range(num_frames):\n",
    "            retVal, frame = capture.read()\n",
    "            # cv2.imshow(str_path, frame)\n",
    "            frame = cv2.resize(frame, (img_rows, img_cols), interpolation=cv2.INTER_AREA)\n",
    "            gray = cv2.cvtColor(frame, cv2.COLOR_BGR2GRAY)\n",
    "            frames.append(gray)\n",
    "            \n",
    "            # if cv2.waitKey(int(1000/fps)) & 0xFF == ord('q'):\n",
    "                # break\n",
    "                \n",
    "        capture.release()\n",
    "        # cv2.destroyAllWindows()\n",
    "        \n",
    "        frames = np.array(frames)\n",
    "        frames = np.rollaxis(np.rollaxis(frames, 2, 0), 2, 0)\n",
    "        \n",
    "        training_videos.append(frames)\n",
    "    print('All videos loaded from {0}'.format(str_path))"
   ]
  },
  {
   "cell_type": "code",
   "execution_count": 7,
   "metadata": {},
   "outputs": [
    {
     "name": "stdout",
     "output_type": "stream",
     "text": [
      "Number of videos for .\\KTH\\boxing\\: 100\n",
      "All videos loaded from .\\KTH\\boxing\\\n",
      "Number of videos for .\\KTH\\handclapping\\: 99\n",
      "All videos loaded from .\\KTH\\handclapping\\\n",
      "Number of videos for .\\KTH\\handwaving\\: 100\n",
      "All videos loaded from .\\KTH\\handwaving\\\n",
      "Number of videos for .\\KTH\\jogging\\: 100\n",
      "All videos loaded from .\\KTH\\jogging\\\n",
      "Number of videos for .\\KTH\\running\\: 100\n",
      "All videos loaded from .\\KTH\\running\\\n",
      "Number of videos for .\\KTH\\walking\\: 100\n",
      "All videos loaded from .\\KTH\\walking\\\n"
     ]
    }
   ],
   "source": [
    "classes = ['boxing', 'handclapping', 'handwaving', 'jogging', 'running', 'walking']\n",
    "for _class in classes:\n",
    "    action_name = PATH_TO_VIDEOS.format(_class)\n",
    "    append_videos(action_name)"
   ]
  },
  {
   "cell_type": "code",
   "execution_count": 8,
   "metadata": {},
   "outputs": [
    {
     "data": {
      "text/plain": [
       "(599, 16, 16, 25)"
      ]
     },
     "execution_count": 8,
     "metadata": {},
     "output_type": "execute_result"
    }
   ],
   "source": [
    "X_training = np.array(training_videos)\n",
    "X_training.shape"
   ]
  },
  {
   "cell_type": "code",
   "execution_count": 9,
   "metadata": {},
   "outputs": [
    {
     "data": {
      "text/plain": [
       "(599,)"
      ]
     },
     "execution_count": 9,
     "metadata": {},
     "output_type": "execute_result"
    }
   ],
   "source": [
    "num_samples = X_training.shape[0]\n",
    "labels = np.ones(num_samples, dtype=int)\n",
    "labels[0:100] = 0 # boxing\n",
    "labels[100:199] = 1 # handclapping\n",
    "labels[199:299] = 2 # handwaving\n",
    "labels[299:399] = 3 # jogging\n",
    "labels[399:499] = 4 # running\n",
    "labels[499:599] = 5 # walking\n",
    "labels.shape"
   ]
  },
  {
   "cell_type": "markdown",
   "metadata": {},
   "source": [
    "## Make data compatible for CNN Input shape"
   ]
  },
  {
   "cell_type": "code",
   "execution_count": 10,
   "metadata": {},
   "outputs": [
    {
     "name": "stdout",
     "output_type": "stream",
     "text": [
      "(599, 1, 16, 16, 25)\n"
     ]
    }
   ],
   "source": [
    "training_set = np.zeros((num_samples, 1, img_rows, img_cols, num_frames))\n",
    "for h in range(num_samples):\n",
    "    training_set[h][0][:][:][:] = X_training[h, :, :, :]\n",
    "print(training_set.shape)"
   ]
  },
  {
   "cell_type": "code",
   "execution_count": 11,
   "metadata": {},
   "outputs": [],
   "source": [
    "from keras.utils import np_utils\n",
    "from keras import backend as K"
   ]
  },
  {
   "cell_type": "code",
   "execution_count": 12,
   "metadata": {},
   "outputs": [
    {
     "data": {
      "text/plain": [
       "(599, 6)"
      ]
     },
     "execution_count": 12,
     "metadata": {},
     "output_type": "execute_result"
    }
   ],
   "source": [
    "Y_train = np_utils.to_categorical(labels, len(classes))\n",
    "Y_train.shape"
   ]
  },
  {
   "cell_type": "code",
   "execution_count": 13,
   "metadata": {},
   "outputs": [],
   "source": [
    "training_set_norm = training_set.astype('float32')\n",
    "training_set_norm = training_set_norm - np.mean(training_set_norm)\n",
    "training_set_norm = training_set_norm / np.max(training_set_norm)"
   ]
  },
  {
   "cell_type": "code",
   "execution_count": 14,
   "metadata": {},
   "outputs": [
    {
     "name": "stdout",
     "output_type": "stream",
     "text": [
      "(401, 1, 16, 16, 25) (198, 1, 16, 16, 25)\n"
     ]
    }
   ],
   "source": [
    "X_train, X_test, y_train, y_test = tts(training_set_norm, Y_train, test_size=0.33, random_state=4)\n",
    "print(X_train.shape, X_test.shape)"
   ]
  },
  {
   "cell_type": "code",
   "execution_count": 15,
   "metadata": {},
   "outputs": [],
   "source": [
    "K.set_image_dim_ordering('th')"
   ]
  },
  {
   "cell_type": "code",
   "execution_count": 21,
   "metadata": {},
   "outputs": [],
   "source": [
    "simple_model = Sequential()\n",
    "simple_model.add(Conv3D(32, (5, 5, 5), input_shape=(1, img_rows, img_cols, num_frames), activation='relu'))\n",
    "simple_model.add(MaxPooling3D((3, 3, 3)))\n",
    "simple_model.add(Dropout(0.25))\n",
    "simple_model.add(Flatten())\n",
    "simple_model.add(Dense(128, kernel_initializer='normal', activation='relu'))\n",
    "simple_model.add(Dropout(0.5))\n",
    "simple_model.add(Dense(len(classes), kernel_initializer='normal', activation='softmax'))\n",
    "simple_model.compile(loss='categorical_crossentropy', optimizer='RMSprop', metrics=['accuracy'])"
   ]
  },
  {
   "cell_type": "code",
   "execution_count": 22,
   "metadata": {},
   "outputs": [
    {
     "name": "stdout",
     "output_type": "stream",
     "text": [
      "Train on 401 samples, validate on 198 samples\n",
      "Epoch 1/20\n",
      "401/401 [==============================] - 25s 63ms/step - loss: 1.5824 - acc: 0.3317 - val_loss: 1.1239 - val_acc: 0.5152\n",
      "Epoch 2/20\n",
      "401/401 [==============================] - 26s 66ms/step - loss: 1.3648 - acc: 0.4314 - val_loss: 1.1032 - val_acc: 0.5404\n",
      "Epoch 3/20\n",
      "401/401 [==============================] - 27s 68ms/step - loss: 1.2306 - acc: 0.4838 - val_loss: 1.1282 - val_acc: 0.5202\n",
      "Epoch 4/20\n",
      "401/401 [==============================] - 29s 72ms/step - loss: 1.1540 - acc: 0.4888 - val_loss: 1.0021 - val_acc: 0.5505\n",
      "Epoch 5/20\n",
      "401/401 [==============================] - 30s 75ms/step - loss: 1.0602 - acc: 0.5337 - val_loss: 1.1860 - val_acc: 0.5354\n",
      "Epoch 6/20\n",
      "401/401 [==============================] - 33s 83ms/step - loss: 1.0615 - acc: 0.5561 - val_loss: 0.9546 - val_acc: 0.5657\n",
      "Epoch 7/20\n",
      "401/401 [==============================] - 36s 89ms/step - loss: 0.9592 - acc: 0.6234 - val_loss: 0.9864 - val_acc: 0.5859\n",
      "Epoch 8/20\n",
      "401/401 [==============================] - 43s 108ms/step - loss: 0.9957 - acc: 0.5885 - val_loss: 0.7950 - val_acc: 0.6465\n",
      "Epoch 9/20\n",
      "401/401 [==============================] - 47s 117ms/step - loss: 0.9344 - acc: 0.6110 - val_loss: 0.8402 - val_acc: 0.6566a\n",
      "Epoch 10/20\n",
      "401/401 [==============================] - 49s 123ms/step - loss: 0.9002 - acc: 0.6334 - val_loss: 0.9299 - val_acc: 0.6515\n",
      "Epoch 11/20\n",
      "401/401 [==============================] - 54s 134ms/step - loss: 0.8646 - acc: 0.6559 - val_loss: 0.7909 - val_acc: 0.6515\n",
      "Epoch 12/20\n",
      "401/401 [==============================] - 60s 149ms/step - loss: 0.8396 - acc: 0.6658 - val_loss: 0.8984 - val_acc: 0.6414\n",
      "Epoch 13/20\n",
      "401/401 [==============================] - 57s 141ms/step - loss: 0.8120 - acc: 0.6933 - val_loss: 0.8306 - val_acc: 0.7172\n",
      "Epoch 14/20\n",
      "401/401 [==============================] - 57s 142ms/step - loss: 0.7404 - acc: 0.7032 - val_loss: 0.6790 - val_acc: 0.6919\n",
      "Epoch 15/20\n",
      "401/401 [==============================] - 57s 142ms/step - loss: 0.7858 - acc: 0.7157 - val_loss: 0.8703 - val_acc: 0.6414\n",
      "Epoch 16/20\n",
      "401/401 [==============================] - 57s 141ms/step - loss: 0.7742 - acc: 0.7382 - val_loss: 0.8490 - val_acc: 0.6667\n",
      "Epoch 17/20\n",
      "401/401 [==============================] - 35s 87ms/step - loss: 0.7294 - acc: 0.7382 - val_loss: 0.8190 - val_acc: 0.6566\n",
      "Epoch 18/20\n",
      "401/401 [==============================] - 23s 56ms/step - loss: 0.7228 - acc: 0.7531 - val_loss: 0.7233 - val_acc: 0.6970\n",
      "Epoch 19/20\n",
      "401/401 [==============================] - 23s 56ms/step - loss: 0.6863 - acc: 0.7406 - val_loss: 0.7648 - val_acc: 0.7222\n",
      "Epoch 20/20\n",
      "401/401 [==============================] - 23s 56ms/step - loss: 0.6525 - acc: 0.7456 - val_loss: 0.8245 - val_acc: 0.7121\n"
     ]
    }
   ],
   "source": [
    "simple_model_test = simple_model.fit(X_train, y_train, validation_data=(X_test, y_test), batch_size=2, epochs=20, shuffle=True)"
   ]
  },
  {
   "cell_type": "code",
   "execution_count": 23,
   "metadata": {},
   "outputs": [
    {
     "name": "stdout",
     "output_type": "stream",
     "text": [
      "['seaborn-paper', 'seaborn-whitegrid', 'fast', 'seaborn-talk', 'seaborn-bright', 'seaborn-ticks', 'seaborn-muted', 'seaborn-poster', 'grayscale', 'seaborn-dark', 'dark_background', 'seaborn-deep', 'seaborn', 'seaborn-notebook', 'seaborn-dark-palette', 'seaborn-pastel', 'bmh', 'Solarize_Light2', 'seaborn-white', 'tableau-colorblind10', 'ggplot', 'fivethirtyeight', 'seaborn-colorblind', 'classic', '_classic_test', 'seaborn-darkgrid']\n"
     ]
    }
   ],
   "source": [
    "print(plt.style.available)"
   ]
  },
  {
   "cell_type": "code",
   "execution_count": 24,
   "metadata": {},
   "outputs": [
    {
     "data": {
      "text/plain": [
       "<matplotlib.legend.Legend at 0x1fc5918b358>"
      ]
     },
     "execution_count": 24,
     "metadata": {},
     "output_type": "execute_result"
    },
    {
     "data": {
      "image/png": "[encoded data removed]",
      "text/plain": [
       "<Figure size 504x360 with 1 Axes>"
      ]
     },
     "metadata": {},
     "output_type": "display_data"
    },
    {
     "data": {
      "image/png": "[encoded data removed]",
      "text/plain": [
       "<Figure size 504x360 with 1 Axes>"
      ]
     },
     "metadata": {},
     "output_type": "display_data"
    }
   ],
   "source": [
    "train_loss = simple_model_test.history['loss']\n",
    "val_loss = simple_model_test.history['val_loss']\n",
    "train_acc = simple_model_test.history['acc']\n",
    "val_acc = simple_model_test.history['val_acc']\n",
    "xcs = range(len(train_loss))\n",
    "\n",
    "plt.figure(1, figsize=(7, 5))\n",
    "plt.plot(xcs, train_loss)\n",
    "plt.plot(xcs, val_loss)\n",
    "plt.xlabel('Number of epochs')\n",
    "plt.ylabel('Loss')\n",
    "plt.title('Train Loss v/s Val Loss')\n",
    "plt.grid(True)\n",
    "plt.style.use(['ggplot'])\n",
    "plt.legend(['train_loss', 'val_loss'])\n",
    "\n",
    "plt.figure(2, figsize=(7, 5))\n",
    "plt.plot(xcs, train_acc)\n",
    "plt.plot(xcs, val_acc)\n",
    "plt.xlabel('Number of epochs')\n",
    "plt.ylabel('Accuracy')\n",
    "plt.title('Train accuracy v/s Val accuracy')\n",
    "plt.grid(True)\n",
    "plt.style.use(['ggplot'])\n",
    "plt.legend(['train_acc', 'val_acc'])"
   ]
  },
  {
   "cell_type": "code",
   "execution_count": 25,
   "metadata": {},
   "outputs": [
    {
     "name": "stdout",
     "output_type": "stream",
     "text": [
      "198/198 [==============================] - 3s 16ms/step\n",
      "['loss', 'acc']\n",
      "[0.8244572432354244, 0.712121211519145]\n"
     ]
    }
   ],
   "source": [
    "simple_model_test_score = simple_model.evaluate(X_test, y_test)\n",
    "print(simple_model.metrics_names)\n",
    "print(simple_model_test_score)"
   ]
  },
  {
   "cell_type": "code",
   "execution_count": null,
   "metadata": {},
   "outputs": [],
   "source": []
  }
 ],
 "metadata": {
  "kernelspec": {
   "display_name": "Python 3",
   "language": "python",
   "name": "python3"
  },
  "language_info": {
   "codemirror_mode": {
    "name": "ipython",
    "version": 3
   },
   "file_extension": ".py",
   "mimetype": "text/x-python",
   "name": "python",
   "nbconvert_exporter": "python",
   "pygments_lexer": "ipython3",
   "version": "3.5.4"
  }
 },
 "nbformat": 4,
 "nbformat_minor": 2
}
